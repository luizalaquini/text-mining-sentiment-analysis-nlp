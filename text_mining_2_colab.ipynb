{
  "cells": [
    {
      "cell_type": "markdown",
      "metadata": {
        "id": "Vi3z6F4p86HJ"
      },
      "source": [
        "# Instalação e dependências"
      ]
    },
    {
      "cell_type": "code",
      "execution_count": 34,
      "metadata": {},
      "outputs": [],
      "source": [
        "# !pip install -q translate\n",
        "# !pip install -q nltk\n",
        "# !pip install -q wordcloud\n",
        "# !pip install -q plotly\n",
        "# !pip install -q googletrans\n",
        "# !pip install -q deep_translator"
      ]
    },
    {
      "cell_type": "code",
      "execution_count": 35,
      "metadata": {
        "colab": {
          "base_uri": "https://localhost:8080/"
        },
        "id": "XP7XcyH581oJ",
        "outputId": "3f829bed-fa8f-4489-a677-5559c006d16d"
      },
      "outputs": [],
      "source": [
        "import re\n",
        "import nltk\n",
        "import string\n",
        "import pandas as pd\n",
        "import plotly.express as px\n",
        "import matplotlib.pyplot as plt\n",
        "\n",
        "from textblob import TextBlob\n",
        "from collections import Counter\n",
        "from wordcloud import WordCloud\n",
        "from translate import Translator\n",
        "from deep_translator import GoogleTranslator\n",
        "\n",
        "from nltk.corpus import stopwords\n",
        "from nltk.sentiment.vader import SentimentIntensityAnalyzer\n",
        "\n",
        "from sklearn.pipeline import make_pipeline\n",
        "from sklearn.naive_bayes import MultinomialNB\n",
        "from sklearn.feature_extraction.text import TfidfVectorizer"
      ]
    },
    {
      "cell_type": "code",
      "execution_count": 36,
      "metadata": {},
      "outputs": [
        {
          "name": "stderr",
          "output_type": "stream",
          "text": [
            "[nltk_data] Downloading package stopwords to\n",
            "[nltk_data]     C:\\Users\\madeinweb\\AppData\\Roaming\\nltk_data...\n",
            "[nltk_data]   Package stopwords is already up-to-date!\n",
            "[nltk_data] Downloading package rslp to\n",
            "[nltk_data]     C:\\Users\\madeinweb\\AppData\\Roaming\\nltk_data...\n",
            "[nltk_data]   Package rslp is already up-to-date!\n"
          ]
        },
        {
          "data": {
            "text/plain": [
              "True"
            ]
          },
          "execution_count": 36,
          "metadata": {},
          "output_type": "execute_result"
        }
      ],
      "source": [
        "nltk.download('stopwords')\n",
        "nltk.download('rslp')"
      ]
    },
    {
      "cell_type": "code",
      "execution_count": 37,
      "metadata": {},
      "outputs": [
        {
          "name": "stderr",
          "output_type": "stream",
          "text": [
            "[nltk_data] Downloading package vader_lexicon to\n",
            "[nltk_data]     C:\\Users\\madeinweb\\AppData\\Roaming\\nltk_data...\n",
            "[nltk_data]   Package vader_lexicon is already up-to-date!\n"
          ]
        }
      ],
      "source": [
        "# Baixar o dicionário do VADER para sentiment analysis\n",
        "nltk.download('vader_lexicon')\n",
        "stop_words = set(stopwords.words(\"portuguese\"))"
      ]
    },
    {
      "cell_type": "markdown",
      "metadata": {
        "id": "F1QukaLE1UEm"
      },
      "source": [
        "# Dados"
      ]
    },
    {
      "cell_type": "code",
      "execution_count": 38,
      "metadata": {
        "colab": {
          "base_uri": "https://localhost:8080/"
        },
        "id": "j7ASa7auBCgS",
        "outputId": "a939e890-2468-414b-a34a-a37b293ebc92"
      },
      "outputs": [
        {
          "name": "stdout",
          "output_type": "stream",
          "text": [
            "<class 'pandas.core.frame.DataFrame'>\n",
            "RangeIndex: 100 entries, 0 to 99\n",
            "Data columns (total 3 columns):\n",
            " #   Column      Non-Null Count  Dtype \n",
            "---  ------      --------------  ----- \n",
            " 0   id          100 non-null    int64 \n",
            " 1   data        100 non-null    object\n",
            " 2   depoimento  100 non-null    object\n",
            "dtypes: int64(1), object(2)\n",
            "memory usage: 2.5+ KB\n",
            "\n",
            "Ambiente aconchegante e atendimento simpático; comida saborosa.\n",
            "Atendimento excelente, mas o tempo de preparo dos pratos é muito longo.\n",
            "A comida é deliciosa e o serviço é sempre cordial.\n",
            "Ótima experiência, com ambiente agradável e equipe atenciosa.\n",
            "Serviço impecável, porém a demora no preparo compromete a experiência.\n"
          ]
        }
      ],
      "source": [
        "df = pd.read_csv('https://raw.githubusercontent.com/guilhermeonrails/datas-csv/refs/heads/main/depoimentos.csv')\n",
        "df.info()\n",
        "print()\n",
        "for depoimento in df['depoimento'].head(5):\n",
        "    print(depoimento)"
      ]
    },
    {
      "cell_type": "markdown",
      "metadata": {
        "id": "QCg_wwEL-9We"
      },
      "source": [
        "# Traduções"
      ]
    },
    {
      "cell_type": "code",
      "execution_count": 39,
      "metadata": {
        "id": "QXOfypoX4rLl"
      },
      "outputs": [],
      "source": [
        "# # Criar um objeto de tradução\n",
        "# translator = Translator(to_lang=\"pt-br\")\n",
        "\n",
        "# # Traduzir uma frase\n",
        "# translation = translator.translate(\"I am a student.\")\n",
        "# print()\n",
        "# print(translation)  # Saída esperada: \"Sou um estudante\""
      ]
    },
    {
      "cell_type": "code",
      "execution_count": 40,
      "metadata": {
        "id": "YA9a7uGZ0LQ1"
      },
      "outputs": [],
      "source": [
        "# # Criar o modelo de tradução\n",
        "# translator = GoogleTranslator(source='auto', target='en')\n",
        "\n",
        "# # Traduzir uma única frase do português para o inglês\n",
        "# text = 'Esta é uma frase que queremos traduzir para o inglês'\n",
        "# translation = translator.translate(text)\n",
        "\n",
        "# # Exibir a tradução\n",
        "# print(translation)"
      ]
    },
    {
      "cell_type": "markdown",
      "metadata": {
        "id": "TAI7yHMt3dXv"
      },
      "source": [
        "# Analisando os sentimemtos"
      ]
    },
    {
      "cell_type": "code",
      "execution_count": 41,
      "metadata": {
        "colab": {
          "base_uri": "https://localhost:8080/"
        },
        "id": "mMI59Yry6QGZ",
        "outputId": "9319cf53-ee4a-4e02-9d86-12564b8664af"
      },
      "outputs": [
        {
          "name": "stdout",
          "output_type": "stream",
          "text": [
            "Sentiment(polarity=0.6125, subjectivity=0.75)\n"
          ]
        }
      ],
      "source": [
        "'''\n",
        "TextBlob é uma biblioteca NLP simples que é construída sobre as\n",
        "bibliotecas NLTK (Natural Language Toolkit) e Pattern.\n",
        "Ela fornece uma interface fácil de usar para tarefas NLP\n",
        "comuns, incluindo análise de sentimentos.\n",
        "'''\n",
        "\n",
        "# Sample text\n",
        "text = \"I love this product! It's amazing for me.\"\n",
        "# Create a TextBlob object\n",
        "blob = TextBlob(text)\n",
        "# Perform sentiment analysis\n",
        "sentiment = blob.sentiment\n",
        "print(sentiment)  # Output: Sentiment(polarity=0.61, subjectivity=0.75)"
      ]
    },
    {
      "cell_type": "code",
      "execution_count": 42,
      "metadata": {
        "colab": {
          "base_uri": "https://localhost:8080/"
        },
        "id": "_NU7i_Nr8e0U",
        "outputId": "429c127f-1437-43be-f361-5f8a296fc887"
      },
      "outputs": [
        {
          "name": "stdout",
          "output_type": "stream",
          "text": [
            "Sentiment(polarity=0.0, subjectivity=0.0)\n"
          ]
        }
      ],
      "source": [
        "# Definindo uma frase para análise de sentimento\n",
        "# O texto diz: \"A água congela a 0 graus Celsius.\"\n",
        "text = \"Water freezes at 0 degrees Celsius.\"\n",
        "\n",
        "# Criando um objeto TextBlob com a frase fornecida\n",
        "blob = TextBlob(text)\n",
        "\n",
        "# Realizando a análise de sentimento da frase\n",
        "sentiment = blob.sentiment\n",
        "\n",
        "# Imprimindo o resultado da análise de sentimento\n",
        "print(sentiment)  # Saída esperada: Sentiment(polarity=0.0, subjectivity próxima de 0.0)"
      ]
    },
    {
      "cell_type": "code",
      "execution_count": 43,
      "metadata": {
        "colab": {
          "base_uri": "https://localhost:8080/"
        },
        "id": "wU_kEa9S9v2z",
        "outputId": "29a2b261-e0d7-48d3-8cf8-dc9f5cda9968"
      },
      "outputs": [
        {
          "name": "stdout",
          "output_type": "stream",
          "text": [
            "Review: This product is fantastic! It exceeded my expectations.\n",
            "Sentiment: {'neg': 0.0, 'neu': 0.643, 'pos': 0.357, 'compound': 0.5983}\n",
            "\n",
            "Review: Not worth the price. I'm disappointed with the quality.\n",
            "Sentiment: {'neg': 0.405, 'neu': 0.595, 'pos': 0.0, 'compound': -0.5812}\n",
            "\n",
            "Review: Good value for money. Will buy again.\n",
            "Sentiment: {'neg': 0.0, 'neu': 0.485, 'pos': 0.515, 'compound': 0.6486}\n",
            "\n"
          ]
        }
      ],
      "source": [
        "# Lista de resenhas de exemplo\n",
        "reviews = [\n",
        "  # O produto é fantástico e superou as expectativas\n",
        "  \"This product is fantastic! It exceeded my expectations.\",\n",
        "\n",
        "  # Insatisfação com o preço e qualidade do produto\n",
        "  \"Not worth the price. I'm disappointed with the quality.\",\n",
        "\n",
        "  # O produto tem um bom custo-benefício e seria comprado novamente\n",
        "  \"Good value for money. Will buy again.\",\n",
        "]\n",
        "\n",
        "# Inicializar o analisador de sentimentos VADER\n",
        "sia = SentimentIntensityAnalyzer()\n",
        "\n",
        "# Analisar o sentimento de cada resenha\n",
        "for review in reviews:\n",
        "    # Obter a pontuação de polaridade (sentimento) da resenha\n",
        "    sentiment = sia.polarity_scores(review)\n",
        "\n",
        "    # Exibir a resenha e o resultado da análise de sentimento\n",
        "    print(f\"Review: {review}\\nSentiment: {sentiment}\\n\")"
      ]
    },
    {
      "cell_type": "code",
      "execution_count": 44,
      "metadata": {
        "colab": {
          "base_uri": "https://localhost:8080/"
        },
        "id": "tETtOD-T9Li6",
        "outputId": "6e0bab51-9424-456d-b51a-1aa3f103b3dc"
      },
      "outputs": [
        {
          "name": "stdout",
          "output_type": "stream",
          "text": [
            "Review: Produto é maravilhoso\n",
            "Sentiment: {'neg': 0.0, 'neu': 1.0, 'pos': 0.0, 'compound': 0.0}\n",
            "\n",
            "Review: Odiei o produto, decepcionado.\n",
            "Sentiment: {'neg': 0.0, 'neu': 1.0, 'pos': 0.0, 'compound': 0.0}\n",
            "\n"
          ]
        }
      ],
      "source": [
        "# Lista de resenhas de exemplo em português\n",
        "reviews = [\n",
        "  \"Produto é maravilhoso\",\n",
        "\n",
        "  \"Odiei o produto, decepcionado.\"\n",
        "]\n",
        "\n",
        "# Inicializa o analisador de sentimentos VADER\n",
        "sia = SentimentIntensityAnalyzer()\n",
        "\n",
        "# Analisar o sentimento de cada resenha\n",
        "for review in reviews:\n",
        "    # O analisador VADER foi treinado para textos em inglês. Aqui, ao aplicar em português, os resultados podem ser imprecisos.\n",
        "    sentiment = sia.polarity_scores(review)\n",
        "\n",
        "    # Exibe a resenha e o resultado da análise de sentimento\n",
        "    print(f\"Review: {review}\\nSentiment: {sentiment}\\n\")"
      ]
    },
    {
      "cell_type": "markdown",
      "metadata": {
        "id": "ZpHW9g9oAXIo"
      },
      "source": [
        "O código acima utiliza o VADER Sentiment Analyzer, que foi otimizado para análise de sentimentos em inglês.\n",
        "\n",
        "Ao aplicá-lo a resenhas em português, como nas que estão presentes no exemplo, pode haver problemas de precisão, já que o modelo pode não reconhecer corretamente as palavras ou expressões características do idioma português.\n",
        "\n",
        "Isso pode levar a resultados imprecisos ou errôneos.\n",
        "\n",
        "Para obter melhores resultados, seria necessário usar um modelo de análise de sentimentos treinado especificamente para o português ou, alternativamente, traduzir as resenhas para inglês antes de aplicar a análise."
      ]
    },
    {
      "cell_type": "code",
      "execution_count": 45,
      "metadata": {
        "colab": {
          "base_uri": "https://localhost:8080/"
        },
        "id": "g0i3Zr2z97KG",
        "outputId": "af547c6f-a799-4c6d-b83d-559d98a28ecd"
      },
      "outputs": [
        {
          "name": "stdout",
          "output_type": "stream",
          "text": [
            "Review (PT): The product is wonderful\n",
            "Sentiment: {'neg': 0.0, 'neu': 0.448, 'pos': 0.552, 'compound': 0.5719}\n",
            "\n",
            "Review (PT): I hated the product, disappointed.\n",
            "Sentiment: {'neg': 0.785, 'neu': 0.215, 'pos': 0.0, 'compound': -0.8074}\n",
            "\n"
          ]
        }
      ],
      "source": [
        "# Inicializa o analisador de sentimentos VADER\n",
        "# Inicializa o tradutor (Google Translate)\n",
        "\n",
        "\n",
        "# Lista de reviews de exemplo (em português)\n",
        "reviews = [\n",
        "    \"Produto é maravilhoso\",\n",
        "    \"Odiei o produto, decepcionado.\"\n",
        "]\n",
        "\n",
        "# Lista de reviews de exemplo (em português)\n",
        "reviews = [\n",
        "    \"The product is wonderful\",\n",
        "    \"I hated the product, disappointed.\"\n",
        "]\n",
        "\n",
        "# Função para traduzir o texto de português para inglês\n",
        "# def translate_to_english(text):\n",
        "#     return GoogleTranslator(source='auto', target='en').translate(text)\n",
        "\n",
        "# Laço para analisar o sentimento de cada resenha\n",
        "for review in reviews:\n",
        "    # Traduz a resenha do português para o inglês\n",
        "    # translated_review = translate_to_english(review)\n",
        "\n",
        "    # Calcula a pontuação de polaridade (sentimento) da resenha traduzida\n",
        "    sentiment = sia.polarity_scores(review)\n",
        "\n",
        "    # Exibe a resenha original, tradução e análise de sentimento\n",
        "    print(f\"Review (PT): {review}\")\n",
        "    print(f\"Sentiment: {sentiment}\\n\")"
      ]
    },
    {
      "cell_type": "markdown",
      "metadata": {
        "id": "ulJVOvH5RbpE"
      },
      "source": [
        "# Analisando a base de depoimentos"
      ]
    },
    {
      "cell_type": "code",
      "execution_count": 46,
      "metadata": {
        "id": "OOe0zBtz2nFr"
      },
      "outputs": [],
      "source": [
        "# Função para traduzir o texto para inglês\n",
        "# def translate_to_english(text):\n",
        "#   try:\n",
        "#     return GoogleTranslator(source='auto', target='en').translate(text)\n",
        "#   except:\n",
        "#     return ''\n",
        "\n",
        "# # Criar a nova coluna traduzida\n",
        "# df[\"depoimento_en\"] = df[\"depoimento\"].apply(translate_to_english)"
      ]
    },
    {
      "cell_type": "code",
      "execution_count": 47,
      "metadata": {
        "colab": {
          "base_uri": "https://localhost:8080/",
          "height": 293
        },
        "id": "CyT-5rok23SH",
        "outputId": "abfd6ac3-146c-4865-94b8-a4f307c7296c"
      },
      "outputs": [
        {
          "data": {
            "text/html": [
              "<div>\n",
              "<style scoped>\n",
              "    .dataframe tbody tr th:only-of-type {\n",
              "        vertical-align: middle;\n",
              "    }\n",
              "\n",
              "    .dataframe tbody tr th {\n",
              "        vertical-align: top;\n",
              "    }\n",
              "\n",
              "    .dataframe thead th {\n",
              "        text-align: right;\n",
              "    }\n",
              "</style>\n",
              "<table border=\"1\" class=\"dataframe\">\n",
              "  <thead>\n",
              "    <tr style=\"text-align: right;\">\n",
              "      <th></th>\n",
              "      <th>id</th>\n",
              "      <th>data</th>\n",
              "      <th>depoimento</th>\n",
              "      <th>depoimento_en</th>\n",
              "    </tr>\n",
              "  </thead>\n",
              "  <tbody>\n",
              "    <tr>\n",
              "      <th>0</th>\n",
              "      <td>1</td>\n",
              "      <td>2023-01-01</td>\n",
              "      <td>Ambiente aconchegante e atendimento simpático;...</td>\n",
              "      <td>Cozy atmosphere and friendly service; tasty food.</td>\n",
              "    </tr>\n",
              "    <tr>\n",
              "      <th>1</th>\n",
              "      <td>2</td>\n",
              "      <td>2023-01-02</td>\n",
              "      <td>Atendimento excelente, mas o tempo de preparo ...</td>\n",
              "      <td>Excellent service, but the preparation time fo...</td>\n",
              "    </tr>\n",
              "    <tr>\n",
              "      <th>2</th>\n",
              "      <td>3</td>\n",
              "      <td>2023-01-03</td>\n",
              "      <td>A comida é deliciosa e o serviço é sempre cord...</td>\n",
              "      <td>The food is delicious and the service is alway...</td>\n",
              "    </tr>\n",
              "    <tr>\n",
              "      <th>3</th>\n",
              "      <td>4</td>\n",
              "      <td>2023-01-04</td>\n",
              "      <td>Ótima experiência, com ambiente agradável e eq...</td>\n",
              "      <td>Great experience, with a pleasant atmosphere a...</td>\n",
              "    </tr>\n",
              "    <tr>\n",
              "      <th>4</th>\n",
              "      <td>5</td>\n",
              "      <td>2023-01-05</td>\n",
              "      <td>Serviço impecável, porém a demora no preparo c...</td>\n",
              "      <td>Impeccable service, but the delay in preparati...</td>\n",
              "    </tr>\n",
              "  </tbody>\n",
              "</table>\n",
              "</div>"
            ],
            "text/plain": [
              "   id        data                                         depoimento  \\\n",
              "0   1  2023-01-01  Ambiente aconchegante e atendimento simpático;...   \n",
              "1   2  2023-01-02  Atendimento excelente, mas o tempo de preparo ...   \n",
              "2   3  2023-01-03  A comida é deliciosa e o serviço é sempre cord...   \n",
              "3   4  2023-01-04  Ótima experiência, com ambiente agradável e eq...   \n",
              "4   5  2023-01-05  Serviço impecável, porém a demora no preparo c...   \n",
              "\n",
              "                                       depoimento_en  \n",
              "0  Cozy atmosphere and friendly service; tasty food.  \n",
              "1  Excellent service, but the preparation time fo...  \n",
              "2  The food is delicious and the service is alway...  \n",
              "3  Great experience, with a pleasant atmosphere a...  \n",
              "4  Impeccable service, but the delay in preparati...  "
            ]
          },
          "execution_count": 47,
          "metadata": {},
          "output_type": "execute_result"
        }
      ],
      "source": [
        "df = pd.read_csv('https://raw.githubusercontent.com/guilhermeonrails/depoimentos-csv/refs/heads/main/depoimentos_en.csv')\n",
        "df.head()"
      ]
    },
    {
      "cell_type": "code",
      "execution_count": 48,
      "metadata": {
        "colab": {
          "base_uri": "https://localhost:8080/",
          "height": 293
        },
        "id": "ity8UU7X29fw",
        "outputId": "d8585f10-78ba-4e5d-dd44-7f7ad927833c"
      },
      "outputs": [
        {
          "data": {
            "text/html": [
              "<div>\n",
              "<style scoped>\n",
              "    .dataframe tbody tr th:only-of-type {\n",
              "        vertical-align: middle;\n",
              "    }\n",
              "\n",
              "    .dataframe tbody tr th {\n",
              "        vertical-align: top;\n",
              "    }\n",
              "\n",
              "    .dataframe thead th {\n",
              "        text-align: right;\n",
              "    }\n",
              "</style>\n",
              "<table border=\"1\" class=\"dataframe\">\n",
              "  <thead>\n",
              "    <tr style=\"text-align: right;\">\n",
              "      <th></th>\n",
              "      <th>id</th>\n",
              "      <th>data</th>\n",
              "      <th>depoimento</th>\n",
              "      <th>depoimento_en</th>\n",
              "      <th>polarity</th>\n",
              "    </tr>\n",
              "  </thead>\n",
              "  <tbody>\n",
              "    <tr>\n",
              "      <th>0</th>\n",
              "      <td>1</td>\n",
              "      <td>2023-01-01</td>\n",
              "      <td>Ambiente aconchegante e atendimento simpático;...</td>\n",
              "      <td>Cozy atmosphere and friendly service; tasty food.</td>\n",
              "      <td>0.4939</td>\n",
              "    </tr>\n",
              "    <tr>\n",
              "      <th>1</th>\n",
              "      <td>2</td>\n",
              "      <td>2023-01-02</td>\n",
              "      <td>Atendimento excelente, mas o tempo de preparo ...</td>\n",
              "      <td>Excellent service, but the preparation time fo...</td>\n",
              "      <td>0.3291</td>\n",
              "    </tr>\n",
              "    <tr>\n",
              "      <th>2</th>\n",
              "      <td>3</td>\n",
              "      <td>2023-01-03</td>\n",
              "      <td>A comida é deliciosa e o serviço é sempre cord...</td>\n",
              "      <td>The food is delicious and the service is alway...</td>\n",
              "      <td>0.7906</td>\n",
              "    </tr>\n",
              "    <tr>\n",
              "      <th>3</th>\n",
              "      <td>4</td>\n",
              "      <td>2023-01-04</td>\n",
              "      <td>Ótima experiência, com ambiente agradável e eq...</td>\n",
              "      <td>Great experience, with a pleasant atmosphere a...</td>\n",
              "      <td>0.8126</td>\n",
              "    </tr>\n",
              "    <tr>\n",
              "      <th>4</th>\n",
              "      <td>5</td>\n",
              "      <td>2023-01-05</td>\n",
              "      <td>Serviço impecável, porém a demora no preparo c...</td>\n",
              "      <td>Impeccable service, but the delay in preparati...</td>\n",
              "      <td>-0.4497</td>\n",
              "    </tr>\n",
              "  </tbody>\n",
              "</table>\n",
              "</div>"
            ],
            "text/plain": [
              "   id        data                                         depoimento  \\\n",
              "0   1  2023-01-01  Ambiente aconchegante e atendimento simpático;...   \n",
              "1   2  2023-01-02  Atendimento excelente, mas o tempo de preparo ...   \n",
              "2   3  2023-01-03  A comida é deliciosa e o serviço é sempre cord...   \n",
              "3   4  2023-01-04  Ótima experiência, com ambiente agradável e eq...   \n",
              "4   5  2023-01-05  Serviço impecável, porém a demora no preparo c...   \n",
              "\n",
              "                                       depoimento_en  polarity  \n",
              "0  Cozy atmosphere and friendly service; tasty food.    0.4939  \n",
              "1  Excellent service, but the preparation time fo...    0.3291  \n",
              "2  The food is delicious and the service is alway...    0.7906  \n",
              "3  Great experience, with a pleasant atmosphere a...    0.8126  \n",
              "4  Impeccable service, but the delay in preparati...   -0.4497  "
            ]
          },
          "execution_count": 48,
          "metadata": {},
          "output_type": "execute_result"
        }
      ],
      "source": [
        "sia = SentimentIntensityAnalyzer()\n",
        "\n",
        "# Função para calcular a polaridade do texto\n",
        "def get_polarity(text):\n",
        "    return sia.polarity_scores(text)[\"compound\"]\n",
        "\n",
        "# Criar a nova coluna de polaridade\n",
        "df[\"polarity\"] = df[\"depoimento_en\"].apply(get_polarity)\n",
        "\n",
        "# Exibir o DataFrame atualizado\n",
        "df.head()"
      ]
    },
    {
      "cell_type": "code",
      "execution_count": 49,
      "metadata": {
        "id": "yaI0IZJo4zNW"
      },
      "outputs": [],
      "source": [
        "# Função para categorizar o sentimento\n",
        "def classify_sentiment(score):\n",
        "    if score >= 0.05:\n",
        "        return \"positivo\"\n",
        "    elif score <= -0.05:\n",
        "        return \"negativo\"\n",
        "    else:\n",
        "        return \"neutro\"\n",
        "\n",
        "# Criar a nova coluna \"sentimento\"\n",
        "df[\"sentimento\"] = df[\"polarity\"].apply(classify_sentiment)\n",
        "\n",
        "# Exibir o DataFrame atualizado\n",
        "df.head(100)\n",
        "df.to_csv(\"data/sentimentos.csv\", index=False)"
      ]
    },
    {
      "cell_type": "code",
      "execution_count": 50,
      "metadata": {
        "colab": {
          "base_uri": "https://localhost:8080/",
          "height": 210
        },
        "id": "z0AxMASa5gSA",
        "outputId": "15b0e5e7-5954-47c6-e7e7-6c53bb5b507b"
      },
      "outputs": [
        {
          "data": {
            "text/plain": [
              "sentimento\n",
              "positivo    80\n",
              "negativo    10\n",
              "neutro      10\n",
              "Name: count, dtype: int64"
            ]
          },
          "execution_count": 50,
          "metadata": {},
          "output_type": "execute_result"
        }
      ],
      "source": [
        "df[\"sentimento\"].value_counts()"
      ]
    },
    {
      "cell_type": "code",
      "execution_count": 51,
      "metadata": {
        "colab": {
          "base_uri": "https://localhost:8080/",
          "height": 542
        },
        "id": "SBjrNlsq5kg5",
        "outputId": "bac10cff-bb9a-4254-e380-e7867d6534a4"
      },
      "outputs": [
        {
          "data": {
            "application/vnd.plotly.v1+json": {
              "config": {
                "plotlyServerURL": "https://plot.ly"
              },
              "data": [
                {
                  "hovertemplate": "color=positivo<br>Sentimento=%{x}<br>Quantidade=%{y}<extra></extra>",
                  "legendgroup": "positivo",
                  "marker": {
                    "color": "#636efa",
                    "pattern": {
                      "shape": ""
                    }
                  },
                  "name": "positivo",
                  "orientation": "v",
                  "showlegend": true,
                  "textposition": "auto",
                  "type": "bar",
                  "x": [
                    "positivo"
                  ],
                  "xaxis": "x",
                  "y": {
                    "bdata": "UA==",
                    "dtype": "i1"
                  },
                  "yaxis": "y"
                },
                {
                  "hovertemplate": "color=negativo<br>Sentimento=%{x}<br>Quantidade=%{y}<extra></extra>",
                  "legendgroup": "negativo",
                  "marker": {
                    "color": "#EF553B",
                    "pattern": {
                      "shape": ""
                    }
                  },
                  "name": "negativo",
                  "orientation": "v",
                  "showlegend": true,
                  "textposition": "auto",
                  "type": "bar",
                  "x": [
                    "negativo"
                  ],
                  "xaxis": "x",
                  "y": {
                    "bdata": "Cg==",
                    "dtype": "i1"
                  },
                  "yaxis": "y"
                },
                {
                  "hovertemplate": "color=neutro<br>Sentimento=%{x}<br>Quantidade=%{y}<extra></extra>",
                  "legendgroup": "neutro",
                  "marker": {
                    "color": "#00cc96",
                    "pattern": {
                      "shape": ""
                    }
                  },
                  "name": "neutro",
                  "orientation": "v",
                  "showlegend": true,
                  "textposition": "auto",
                  "type": "bar",
                  "x": [
                    "neutro"
                  ],
                  "xaxis": "x",
                  "y": {
                    "bdata": "Cg==",
                    "dtype": "i1"
                  },
                  "yaxis": "y"
                }
              ],
              "layout": {
                "barmode": "relative",
                "legend": {
                  "title": {
                    "text": "color"
                  },
                  "tracegroupgap": 0
                },
                "template": {
                  "data": {
                    "bar": [
                      {
                        "error_x": {
                          "color": "#2a3f5f"
                        },
                        "error_y": {
                          "color": "#2a3f5f"
                        },
                        "marker": {
                          "line": {
                            "color": "#E5ECF6",
                            "width": 0.5
                          },
                          "pattern": {
                            "fillmode": "overlay",
                            "size": 10,
                            "solidity": 0.2
                          }
                        },
                        "type": "bar"
                      }
                    ],
                    "barpolar": [
                      {
                        "marker": {
                          "line": {
                            "color": "#E5ECF6",
                            "width": 0.5
                          },
                          "pattern": {
                            "fillmode": "overlay",
                            "size": 10,
                            "solidity": 0.2
                          }
                        },
                        "type": "barpolar"
                      }
                    ],
                    "carpet": [
                      {
                        "aaxis": {
                          "endlinecolor": "#2a3f5f",
                          "gridcolor": "white",
                          "linecolor": "white",
                          "minorgridcolor": "white",
                          "startlinecolor": "#2a3f5f"
                        },
                        "baxis": {
                          "endlinecolor": "#2a3f5f",
                          "gridcolor": "white",
                          "linecolor": "white",
                          "minorgridcolor": "white",
                          "startlinecolor": "#2a3f5f"
                        },
                        "type": "carpet"
                      }
                    ],
                    "choropleth": [
                      {
                        "colorbar": {
                          "outlinewidth": 0,
                          "ticks": ""
                        },
                        "type": "choropleth"
                      }
                    ],
                    "contour": [
                      {
                        "colorbar": {
                          "outlinewidth": 0,
                          "ticks": ""
                        },
                        "colorscale": [
                          [
                            0,
                            "#0d0887"
                          ],
                          [
                            0.1111111111111111,
                            "#46039f"
                          ],
                          [
                            0.2222222222222222,
                            "#7201a8"
                          ],
                          [
                            0.3333333333333333,
                            "#9c179e"
                          ],
                          [
                            0.4444444444444444,
                            "#bd3786"
                          ],
                          [
                            0.5555555555555556,
                            "#d8576b"
                          ],
                          [
                            0.6666666666666666,
                            "#ed7953"
                          ],
                          [
                            0.7777777777777778,
                            "#fb9f3a"
                          ],
                          [
                            0.8888888888888888,
                            "#fdca26"
                          ],
                          [
                            1,
                            "#f0f921"
                          ]
                        ],
                        "type": "contour"
                      }
                    ],
                    "contourcarpet": [
                      {
                        "colorbar": {
                          "outlinewidth": 0,
                          "ticks": ""
                        },
                        "type": "contourcarpet"
                      }
                    ],
                    "heatmap": [
                      {
                        "colorbar": {
                          "outlinewidth": 0,
                          "ticks": ""
                        },
                        "colorscale": [
                          [
                            0,
                            "#0d0887"
                          ],
                          [
                            0.1111111111111111,
                            "#46039f"
                          ],
                          [
                            0.2222222222222222,
                            "#7201a8"
                          ],
                          [
                            0.3333333333333333,
                            "#9c179e"
                          ],
                          [
                            0.4444444444444444,
                            "#bd3786"
                          ],
                          [
                            0.5555555555555556,
                            "#d8576b"
                          ],
                          [
                            0.6666666666666666,
                            "#ed7953"
                          ],
                          [
                            0.7777777777777778,
                            "#fb9f3a"
                          ],
                          [
                            0.8888888888888888,
                            "#fdca26"
                          ],
                          [
                            1,
                            "#f0f921"
                          ]
                        ],
                        "type": "heatmap"
                      }
                    ],
                    "histogram": [
                      {
                        "marker": {
                          "pattern": {
                            "fillmode": "overlay",
                            "size": 10,
                            "solidity": 0.2
                          }
                        },
                        "type": "histogram"
                      }
                    ],
                    "histogram2d": [
                      {
                        "colorbar": {
                          "outlinewidth": 0,
                          "ticks": ""
                        },
                        "colorscale": [
                          [
                            0,
                            "#0d0887"
                          ],
                          [
                            0.1111111111111111,
                            "#46039f"
                          ],
                          [
                            0.2222222222222222,
                            "#7201a8"
                          ],
                          [
                            0.3333333333333333,
                            "#9c179e"
                          ],
                          [
                            0.4444444444444444,
                            "#bd3786"
                          ],
                          [
                            0.5555555555555556,
                            "#d8576b"
                          ],
                          [
                            0.6666666666666666,
                            "#ed7953"
                          ],
                          [
                            0.7777777777777778,
                            "#fb9f3a"
                          ],
                          [
                            0.8888888888888888,
                            "#fdca26"
                          ],
                          [
                            1,
                            "#f0f921"
                          ]
                        ],
                        "type": "histogram2d"
                      }
                    ],
                    "histogram2dcontour": [
                      {
                        "colorbar": {
                          "outlinewidth": 0,
                          "ticks": ""
                        },
                        "colorscale": [
                          [
                            0,
                            "#0d0887"
                          ],
                          [
                            0.1111111111111111,
                            "#46039f"
                          ],
                          [
                            0.2222222222222222,
                            "#7201a8"
                          ],
                          [
                            0.3333333333333333,
                            "#9c179e"
                          ],
                          [
                            0.4444444444444444,
                            "#bd3786"
                          ],
                          [
                            0.5555555555555556,
                            "#d8576b"
                          ],
                          [
                            0.6666666666666666,
                            "#ed7953"
                          ],
                          [
                            0.7777777777777778,
                            "#fb9f3a"
                          ],
                          [
                            0.8888888888888888,
                            "#fdca26"
                          ],
                          [
                            1,
                            "#f0f921"
                          ]
                        ],
                        "type": "histogram2dcontour"
                      }
                    ],
                    "mesh3d": [
                      {
                        "colorbar": {
                          "outlinewidth": 0,
                          "ticks": ""
                        },
                        "type": "mesh3d"
                      }
                    ],
                    "parcoords": [
                      {
                        "line": {
                          "colorbar": {
                            "outlinewidth": 0,
                            "ticks": ""
                          }
                        },
                        "type": "parcoords"
                      }
                    ],
                    "pie": [
                      {
                        "automargin": true,
                        "type": "pie"
                      }
                    ],
                    "scatter": [
                      {
                        "fillpattern": {
                          "fillmode": "overlay",
                          "size": 10,
                          "solidity": 0.2
                        },
                        "type": "scatter"
                      }
                    ],
                    "scatter3d": [
                      {
                        "line": {
                          "colorbar": {
                            "outlinewidth": 0,
                            "ticks": ""
                          }
                        },
                        "marker": {
                          "colorbar": {
                            "outlinewidth": 0,
                            "ticks": ""
                          }
                        },
                        "type": "scatter3d"
                      }
                    ],
                    "scattercarpet": [
                      {
                        "marker": {
                          "colorbar": {
                            "outlinewidth": 0,
                            "ticks": ""
                          }
                        },
                        "type": "scattercarpet"
                      }
                    ],
                    "scattergeo": [
                      {
                        "marker": {
                          "colorbar": {
                            "outlinewidth": 0,
                            "ticks": ""
                          }
                        },
                        "type": "scattergeo"
                      }
                    ],
                    "scattergl": [
                      {
                        "marker": {
                          "colorbar": {
                            "outlinewidth": 0,
                            "ticks": ""
                          }
                        },
                        "type": "scattergl"
                      }
                    ],
                    "scattermap": [
                      {
                        "marker": {
                          "colorbar": {
                            "outlinewidth": 0,
                            "ticks": ""
                          }
                        },
                        "type": "scattermap"
                      }
                    ],
                    "scattermapbox": [
                      {
                        "marker": {
                          "colorbar": {
                            "outlinewidth": 0,
                            "ticks": ""
                          }
                        },
                        "type": "scattermapbox"
                      }
                    ],
                    "scatterpolar": [
                      {
                        "marker": {
                          "colorbar": {
                            "outlinewidth": 0,
                            "ticks": ""
                          }
                        },
                        "type": "scatterpolar"
                      }
                    ],
                    "scatterpolargl": [
                      {
                        "marker": {
                          "colorbar": {
                            "outlinewidth": 0,
                            "ticks": ""
                          }
                        },
                        "type": "scatterpolargl"
                      }
                    ],
                    "scatterternary": [
                      {
                        "marker": {
                          "colorbar": {
                            "outlinewidth": 0,
                            "ticks": ""
                          }
                        },
                        "type": "scatterternary"
                      }
                    ],
                    "surface": [
                      {
                        "colorbar": {
                          "outlinewidth": 0,
                          "ticks": ""
                        },
                        "colorscale": [
                          [
                            0,
                            "#0d0887"
                          ],
                          [
                            0.1111111111111111,
                            "#46039f"
                          ],
                          [
                            0.2222222222222222,
                            "#7201a8"
                          ],
                          [
                            0.3333333333333333,
                            "#9c179e"
                          ],
                          [
                            0.4444444444444444,
                            "#bd3786"
                          ],
                          [
                            0.5555555555555556,
                            "#d8576b"
                          ],
                          [
                            0.6666666666666666,
                            "#ed7953"
                          ],
                          [
                            0.7777777777777778,
                            "#fb9f3a"
                          ],
                          [
                            0.8888888888888888,
                            "#fdca26"
                          ],
                          [
                            1,
                            "#f0f921"
                          ]
                        ],
                        "type": "surface"
                      }
                    ],
                    "table": [
                      {
                        "cells": {
                          "fill": {
                            "color": "#EBF0F8"
                          },
                          "line": {
                            "color": "white"
                          }
                        },
                        "header": {
                          "fill": {
                            "color": "#C8D4E3"
                          },
                          "line": {
                            "color": "white"
                          }
                        },
                        "type": "table"
                      }
                    ]
                  },
                  "layout": {
                    "annotationdefaults": {
                      "arrowcolor": "#2a3f5f",
                      "arrowhead": 0,
                      "arrowwidth": 1
                    },
                    "autotypenumbers": "strict",
                    "coloraxis": {
                      "colorbar": {
                        "outlinewidth": 0,
                        "ticks": ""
                      }
                    },
                    "colorscale": {
                      "diverging": [
                        [
                          0,
                          "#8e0152"
                        ],
                        [
                          0.1,
                          "#c51b7d"
                        ],
                        [
                          0.2,
                          "#de77ae"
                        ],
                        [
                          0.3,
                          "#f1b6da"
                        ],
                        [
                          0.4,
                          "#fde0ef"
                        ],
                        [
                          0.5,
                          "#f7f7f7"
                        ],
                        [
                          0.6,
                          "#e6f5d0"
                        ],
                        [
                          0.7,
                          "#b8e186"
                        ],
                        [
                          0.8,
                          "#7fbc41"
                        ],
                        [
                          0.9,
                          "#4d9221"
                        ],
                        [
                          1,
                          "#276419"
                        ]
                      ],
                      "sequential": [
                        [
                          0,
                          "#0d0887"
                        ],
                        [
                          0.1111111111111111,
                          "#46039f"
                        ],
                        [
                          0.2222222222222222,
                          "#7201a8"
                        ],
                        [
                          0.3333333333333333,
                          "#9c179e"
                        ],
                        [
                          0.4444444444444444,
                          "#bd3786"
                        ],
                        [
                          0.5555555555555556,
                          "#d8576b"
                        ],
                        [
                          0.6666666666666666,
                          "#ed7953"
                        ],
                        [
                          0.7777777777777778,
                          "#fb9f3a"
                        ],
                        [
                          0.8888888888888888,
                          "#fdca26"
                        ],
                        [
                          1,
                          "#f0f921"
                        ]
                      ],
                      "sequentialminus": [
                        [
                          0,
                          "#0d0887"
                        ],
                        [
                          0.1111111111111111,
                          "#46039f"
                        ],
                        [
                          0.2222222222222222,
                          "#7201a8"
                        ],
                        [
                          0.3333333333333333,
                          "#9c179e"
                        ],
                        [
                          0.4444444444444444,
                          "#bd3786"
                        ],
                        [
                          0.5555555555555556,
                          "#d8576b"
                        ],
                        [
                          0.6666666666666666,
                          "#ed7953"
                        ],
                        [
                          0.7777777777777778,
                          "#fb9f3a"
                        ],
                        [
                          0.8888888888888888,
                          "#fdca26"
                        ],
                        [
                          1,
                          "#f0f921"
                        ]
                      ]
                    },
                    "colorway": [
                      "#636efa",
                      "#EF553B",
                      "#00cc96",
                      "#ab63fa",
                      "#FFA15A",
                      "#19d3f3",
                      "#FF6692",
                      "#B6E880",
                      "#FF97FF",
                      "#FECB52"
                    ],
                    "font": {
                      "color": "#2a3f5f"
                    },
                    "geo": {
                      "bgcolor": "white",
                      "lakecolor": "white",
                      "landcolor": "#E5ECF6",
                      "showlakes": true,
                      "showland": true,
                      "subunitcolor": "white"
                    },
                    "hoverlabel": {
                      "align": "left"
                    },
                    "hovermode": "closest",
                    "mapbox": {
                      "style": "light"
                    },
                    "paper_bgcolor": "white",
                    "plot_bgcolor": "#E5ECF6",
                    "polar": {
                      "angularaxis": {
                        "gridcolor": "white",
                        "linecolor": "white",
                        "ticks": ""
                      },
                      "bgcolor": "#E5ECF6",
                      "radialaxis": {
                        "gridcolor": "white",
                        "linecolor": "white",
                        "ticks": ""
                      }
                    },
                    "scene": {
                      "xaxis": {
                        "backgroundcolor": "#E5ECF6",
                        "gridcolor": "white",
                        "gridwidth": 2,
                        "linecolor": "white",
                        "showbackground": true,
                        "ticks": "",
                        "zerolinecolor": "white"
                      },
                      "yaxis": {
                        "backgroundcolor": "#E5ECF6",
                        "gridcolor": "white",
                        "gridwidth": 2,
                        "linecolor": "white",
                        "showbackground": true,
                        "ticks": "",
                        "zerolinecolor": "white"
                      },
                      "zaxis": {
                        "backgroundcolor": "#E5ECF6",
                        "gridcolor": "white",
                        "gridwidth": 2,
                        "linecolor": "white",
                        "showbackground": true,
                        "ticks": "",
                        "zerolinecolor": "white"
                      }
                    },
                    "shapedefaults": {
                      "line": {
                        "color": "#2a3f5f"
                      }
                    },
                    "ternary": {
                      "aaxis": {
                        "gridcolor": "white",
                        "linecolor": "white",
                        "ticks": ""
                      },
                      "baxis": {
                        "gridcolor": "white",
                        "linecolor": "white",
                        "ticks": ""
                      },
                      "bgcolor": "#E5ECF6",
                      "caxis": {
                        "gridcolor": "white",
                        "linecolor": "white",
                        "ticks": ""
                      }
                    },
                    "title": {
                      "x": 0.05
                    },
                    "xaxis": {
                      "automargin": true,
                      "gridcolor": "white",
                      "linecolor": "white",
                      "ticks": "",
                      "title": {
                        "standoff": 15
                      },
                      "zerolinecolor": "white",
                      "zerolinewidth": 2
                    },
                    "yaxis": {
                      "automargin": true,
                      "gridcolor": "white",
                      "linecolor": "white",
                      "ticks": "",
                      "title": {
                        "standoff": 15
                      },
                      "zerolinecolor": "white",
                      "zerolinewidth": 2
                    }
                  }
                },
                "title": {
                  "text": "Distribuição dos Sentimentos nos Depoimentos"
                },
                "xaxis": {
                  "anchor": "y",
                  "domain": [
                    0,
                    1
                  ],
                  "title": {
                    "text": "Sentimento"
                  }
                },
                "yaxis": {
                  "anchor": "x",
                  "domain": [
                    0,
                    1
                  ],
                  "title": {
                    "text": "Quantidade"
                  }
                }
              }
            }
          },
          "metadata": {},
          "output_type": "display_data"
        }
      ],
      "source": [
        "# Contar a quantidade de cada sentimento\n",
        "sentiment_counts = df[\"sentimento\"].value_counts()\n",
        "\n",
        "# Criar o gráfico de barras\n",
        "fig = px.bar(\n",
        "    x=sentiment_counts.index,  # Rótulos (Positivo, Neutro, Negativo)\n",
        "    y=sentiment_counts.values,  # Contagem de cada sentimento\n",
        "    color=sentiment_counts.index,  # Cor diferente para cada categoria\n",
        "    labels={\"x\": \"Sentimento\", \"y\": \"Quantidade\"},\n",
        "    title=\"Distribuição dos Sentimentos nos Depoimentos\"\n",
        ")\n",
        "\n",
        "# Exibir o gráfico\n",
        "fig.show()"
      ]
    },
    {
      "cell_type": "code",
      "execution_count": 52,
      "metadata": {
        "colab": {
          "base_uri": "https://localhost:8080/"
        },
        "id": "A5FfgkUf6XiX",
        "outputId": "b86474d2-1ea7-4588-8775-8fe49270f1d0"
      },
      "outputs": [
        {
          "name": "stdout",
          "output_type": "stream",
          "text": [
            "Principais causas dos depoimentos negativos:\n",
            "serviço: 10 vezes\n",
            "impecável: 10 vezes\n",
            "porém: 10 vezes\n",
            "demora: 10 vezes\n",
            "preparo: 10 vezes\n",
            "compromete: 10 vezes\n",
            "experiência: 10 vezes\n"
          ]
        }
      ],
      "source": [
        "# Filtrar apenas os depoimentos negativos em português\n",
        "depoimentos_negativos = df[df[\"sentimento\"] == \"negativo\"][\"depoimento\"]\n",
        "\n",
        "# Função para processar e extrair palavras-chave\n",
        "def extract_keywords(texts):\n",
        "    all_words = []\n",
        "\n",
        "    for text in texts:\n",
        "        words = text.lower().translate(str.maketrans(\"\", \"\", string.punctuation)).split()  # Remover pontuação e dividir palavras\n",
        "        words = [word for word in words if word not in stop_words]  # Remover stopwords\n",
        "        all_words.extend(words)\n",
        "\n",
        "    return Counter(all_words).most_common(10)  # Retornar as 10 palavras mais comuns\n",
        "\n",
        "# Obter as principais causas dos depoimentos negativos\n",
        "top_negative_causes = extract_keywords(depoimentos_negativos)\n",
        "\n",
        "# Exibir o resultado\n",
        "print(\"Principais causas dos depoimentos negativos:\")\n",
        "for word, count in top_negative_causes:\n",
        "    print(f\"{word}: {count} vezes\")"
      ]
    },
    {
      "cell_type": "code",
      "execution_count": 53,
      "metadata": {
        "colab": {
          "base_uri": "https://localhost:8080/",
          "height": 444
        },
        "id": "vlVW2GVx68U2",
        "outputId": "651ee8e4-4a44-4335-a084-070c8673997e"
      },
      "outputs": [
        {
          "data": {
            "image/png": "[encoded data removed]",
            "text/plain": [
              "<Figure size 1000x500 with 1 Axes>"
            ]
          },
          "metadata": {},
          "output_type": "display_data"
        }
      ],
      "source": [
        "# Filtrar apenas os depoimentos negativos em português\n",
        "depoimentos_negativos = df[df[\"sentimento\"] == \"negativo\"][\"depoimento\"]\n",
        "\n",
        "# Concatenar todos os depoimentos em um único texto\n",
        "text = \" \".join(depoimentos_negativos)\n",
        "\n",
        "# Remover pontuação e stopwords\n",
        "words = text.lower().translate(str.maketrans(\"\", \"\", string.punctuation)).split()\n",
        "filtered_text = \" \".join([word for word in words if word not in stop_words])\n",
        "\n",
        "# Criar a nuvem de palavras com fundo preto\n",
        "wordcloud = WordCloud(\n",
        "    width=800,\n",
        "    height=400,\n",
        "    background_color=\"black\",  # Fundo preto\n",
        "    colormap=\"cool\"  # Cores em tons de azul\n",
        ").generate(filtered_text)\n",
        "\n",
        "# Exibir o Word Cloud\n",
        "plt.figure(figsize=(10, 5))\n",
        "plt.imshow(wordcloud, interpolation=\"quadric\")\n",
        "plt.axis(\"off\")  # Esconder eixos\n",
        "plt.title(\"Palavras mais comuns nos depoimentos negativos\", fontsize=12, color=\"white\")  # Título branco para contraste\n",
        "plt.show()"
      ]
    },
    {
      "cell_type": "code",
      "execution_count": 54,
      "metadata": {
        "colab": {
          "base_uri": "https://localhost:8080/",
          "height": 446
        },
        "id": "UkVTKKKT7hUh",
        "outputId": "d5859abf-0dcf-4874-9c78-f2d13451b081"
      },
      "outputs": [
        {
          "data": {
            "image/png": "[encoded data removed]",
            "text/plain": [
              "<Figure size 1000x500 with 1 Axes>"
            ]
          },
          "metadata": {},
          "output_type": "display_data"
        }
      ],
      "source": [
        "# Remover pontuação e stopwords\n",
        "words = text.lower().translate(str.maketrans(\"\", \"\", string.punctuation)).split()\n",
        "filtered_words = [word for word in words if word not in stop_words]\n",
        "\n",
        "# Contar a frequência das palavras\n",
        "word_counts = Counter(filtered_words)\n",
        "\n",
        "# Selecionar as 5 palavras mais citadas\n",
        "top_3_words = word_counts.most_common(3)\n",
        "\n",
        "\n",
        "# Criar o Word Cloud apenas com as 5 palavras mais citadas\n",
        "top_3_text = \" \".join([word for word, count in top_3_words])\n",
        "\n",
        "# Gerar o Word Cloud\n",
        "wordcloud = WordCloud(\n",
        "    width=800,\n",
        "    height=400,\n",
        "    background_color=\"black\",  # Fundo preto\n",
        "    colormap=\"cool\"  # Cores em tons de azul\n",
        ").generate(top_3_text)\n",
        "\n",
        "# Exibir o Word Cloud\n",
        "plt.figure(figsize=(10, 5))\n",
        "plt.imshow(wordcloud, interpolation=\"quadric\")\n",
        "plt.axis(\"off\")  # Esconder eixos\n",
        "plt.title(\"Top 5 palavras mais citadas nos depoimentos negativos\", fontsize=15, color=\"white\")  # Título branco\n",
        "plt.show()"
      ]
    },
    {
      "cell_type": "markdown",
      "metadata": {
        "id": "EuYtuz3YHEWM"
      },
      "source": [
        "\n",
        "# Insights dos Depoimentos\n"
      ]
    },
    {
      "cell_type": "markdown",
      "metadata": {
        "id": "woysZGdn3wtx"
      },
      "source": [
        "## Sentimento Positivo\n",
        "- **Observação:** A maioria dos depoimentos é positiva.\n",
        "- **Elogios:**  \n",
        "  - Ambiente aconchegante  \n",
        "  - Comida saborosa  \n",
        "  - Atendimento simpático e cordial  \n",
        "- **Conclusão:**  \n",
        "  - A experiência do cliente é, em geral, muito boa.\n",
        "\n",
        "## Sentimento Negativo\n",
        "- **Observação:** Alguns depoimentos apontam pontos negativos.\n",
        "- **Críticas Comuns:**  \n",
        "  - Demora no preparo dos pratos\n",
        "- **Conclusão:**  \n",
        "  - A agilidade no preparo dos pratos é uma área que pode ser melhorada para elevar ainda mais a satisfação dos clientes.\n",
        "\n",
        "## Sentimento Neutro\n",
        "- **Observação:**  \n",
        "  - Não há depoimentos neutros no conjunto analisado.\n",
        "- **Interpretação:**  \n",
        "  - A ausência de depoimentos neutros indica que os clientes expressam opiniões bem definidas, seja de forma positiva ou negativa."
      ]
    },
    {
      "cell_type": "markdown",
      "metadata": {
        "id": "hErnXJu0lX4E"
      },
      "source": [
        "# Analisando com IA Generativa - Minas"
      ]
    },
    {
      "cell_type": "code",
      "execution_count": 55,
      "metadata": {
        "colab": {
          "base_uri": "https://localhost:8080/"
        },
        "id": "ZdM1QxWqeVE8",
        "outputId": "e5529a2d-2e20-4f86-af55-b6afe2999539"
      },
      "outputs": [
        {
          "name": "stdout",
          "output_type": "stream",
          "text": [
            "Ô trem bão, viu? Carrega rapidim e dura o dia todo!\n",
            "Recomendo demais da conta! Funciona que é uma beleza.\n",
            "Uai, sô... esse troço esquenta mais que fogão a lenha!\n",
            "Achei que era bão, mas a bateria dura menos que festa de São João chovendo.\n",
            "Funciona direitim, mas nada de outro mundo.\n",
            "Faz o que promete, mas esperava mais pelo preço.\n",
            "Carrega tão rápido que até minha paciência ganha tempo...\n",
            "Esse fone cancela tanto o ruído que até a música some!\n"
          ]
        }
      ],
      "source": [
        "reviews = [\n",
        "    \"Ô trem bão, viu? Carrega rapidim e dura o dia todo!\",\n",
        "    \"Recomendo demais da conta! Funciona que é uma beleza.\",\n",
        "    \"Uai, sô... esse troço esquenta mais que fogão a lenha!\",\n",
        "    \"Achei que era bão, mas a bateria dura menos que festa de São João chovendo.\",\n",
        "    \"Funciona direitim, mas nada de outro mundo.\",\n",
        "    \"Faz o que promete, mas esperava mais pelo preço.\",\n",
        "    \"Carrega tão rápido que até minha paciência ganha tempo...\",\n",
        "    \"Esse fone cancela tanto o ruído que até a música some!\"\n",
        "]\n",
        "\n",
        "for review in reviews:\n",
        "    print(review)"
      ]
    },
    {
      "cell_type": "code",
      "execution_count": 56,
      "metadata": {
        "colab": {
          "base_uri": "https://localhost:8080/"
        },
        "id": "Dl2CFj0LluXC",
        "outputId": "dbef8220-13a7-4869-b07d-6ae7fd0e251d"
      },
      "outputs": [
        {
          "name": "stdout",
          "output_type": "stream",
          "text": [
            "Ô TREM BÃO, viu? Carrega rapidim e dura o dia todo! -> positivo\n",
            "Recomendo demais da conta! Funciona que é uma beleza. -> positivo\n",
            "Uai, sô... esse troço esquenta mais que fogão a lenha! -> neutro\n",
            "Achei que era bão, mas a bateria dura menos que festa de São João chovendo. -> positivo\n",
            "Funciona direitim, mas nada de outro mundo. -> neutro\n",
            "Faz o que promete, mas esperava mais pelo preço. -> neutro\n",
            "Carrega tão rápido que até minha paciência ganha tempo... -> irônico\n",
            "Esse fone cancela tanto o ruído que até a música some! -> irônico\n"
          ]
        }
      ],
      "source": [
        "sotaque_mineiro = {\n",
        "    \"bão\": \"positivo\",\n",
        "    \"trem bão\": \"positivo\",\n",
        "    \"beleza\": \"positivo\",\n",
        "    \"recomendo demais da conta\": \"positivo\",\n",
        "    \"uai\": \"neutro\",\n",
        "    \"sô\": \"neutro\",\n",
        "    \"troço\": \"negativo\",\n",
        "    \"esquenta mais que fogão a lenha\": \"negativo\",\n",
        "    \"menos que festa de São João chovendo\": \"negativo\",\n",
        "    \"direitim\": \"neutro\",\n",
        "    \"nada de outro mundo\": \"neutro\",\n",
        "    \"faz o que promete\": \"neutro\",\n",
        "    \"esperava mais pelo preço\": \"negativo\",\n",
        "    \"paciência ganha tempo\": \"irônico\",\n",
        "    \"até a música some\": \"irônico\"\n",
        "}\n",
        "\n",
        "def classificar_review(review):\n",
        "    review = review.lower()\n",
        "    for expressao, sentimento in sotaque_mineiro.items():\n",
        "        if re.search(rf\"\\b{expressao}\\b\", review):\n",
        "            return sentimento\n",
        "    return \"neutro\"\n",
        "\n",
        "reviews = [\n",
        "    \"Ô TREM BÃO, viu? Carrega rapidim e dura o dia todo!\",\n",
        "    \"Recomendo demais da conta! Funciona que é uma beleza.\",\n",
        "    \"Uai, sô... esse troço esquenta mais que fogão a lenha!\",\n",
        "    \"Achei que era bão, mas a bateria dura menos que festa de São João chovendo.\",\n",
        "    \"Funciona direitim, mas nada de outro mundo.\",\n",
        "    \"Faz o que promete, mas esperava mais pelo preço.\",\n",
        "    \"Carrega tão rápido que até minha paciência ganha tempo...\",\n",
        "    \"Esse fone cancela tanto o ruído que até a música some!\"\n",
        "]\n",
        "\n",
        "for review in reviews:\n",
        "    print(f\"{review} -> {classificar_review(review)}\")\n"
      ]
    },
    {
      "cell_type": "code",
      "execution_count": 57,
      "metadata": {
        "colab": {
          "base_uri": "https://localhost:8080/"
        },
        "id": "DFottaBA8fWE",
        "outputId": "2eef81d6-4388-466e-dac3-be4ad3dc8441"
      },
      "outputs": [
        {
          "name": "stdout",
          "output_type": "stream",
          "text": [
            "Ô TREM BÃO, viu? Carrega rapidim e dura o dia todo! -> positivo\n",
            "Recomendo demais da conta! Funciona que é uma beleza. -> positivo\n",
            "Uai, sô... esse troço esquenta mais que fogão a lenha! -> neutro\n",
            "Achei que era bão, mas a bateria dura menos que festa de São João chovendo. -> positivo\n",
            "Funciona direitim, mas nada de outro mundo. -> neutro\n",
            "Faz o que promete, mas esperava mais pelo preço. -> neutro\n",
            "Carrega tão rápido que até minha paciência ganha tempo... -> irônico\n",
            "Esse fone cancela tanto o ruído que até a música some! -> irônico\n"
          ]
        }
      ],
      "source": [
        "sotaque_mineiro = {\n",
        "    \"bão\": \"positivo\",\n",
        "    \"trem bão\": \"positivo\",\n",
        "    \"beleza\": \"positivo\",\n",
        "    \"recomendo demais da conta\": \"positivo\",\n",
        "    \"uai\": \"neutro\",\n",
        "    \"sô\": \"neutro\",\n",
        "    \"troço\": \"negativo\",\n",
        "    \"esquenta mais que fogão a lenha\": \"negativo\",\n",
        "    \"menos que festa de São João chovendo\": \"negativo\",\n",
        "    \"direitim\": \"neutro\",\n",
        "    \"nada de outro mundo\": \"neutro\",\n",
        "    \"faz o que promete\": \"neutro\",\n",
        "    \"esperava mais pelo preço\": \"negativo\",\n",
        "    \"paciência ganha tempo\": \"irônico\",\n",
        "    \"até a música some\": \"irônico\"\n",
        "}\n",
        "\n",
        "def preprocessar_texto(texto):\n",
        "    texto = texto.lower()\n",
        "    texto = texto.translate(str.maketrans('', '', string.punctuation))\n",
        "    texto = re.sub(r'\\s+', ' ', texto).strip()\n",
        "    return texto\n",
        "\n",
        "def classificar_review(review):\n",
        "    review = preprocessar_texto(review)\n",
        "    for expressao, sentimento in sotaque_mineiro.items():\n",
        "        if re.search(rf\"\\b{expressao}\\b\", review):\n",
        "            return sentimento\n",
        "    return \"neutro\"\n",
        "\n",
        "reviews = [\n",
        "    \"Ô TREM BÃO, viu? Carrega rapidim e dura o dia todo!\",\n",
        "    \"Recomendo demais da conta! Funciona que é uma beleza.\",\n",
        "    \"Uai, sô... esse troço esquenta mais que fogão a lenha!\",\n",
        "    \"Achei que era bão, mas a bateria dura menos que festa de São João chovendo.\",\n",
        "    \"Funciona direitim, mas nada de outro mundo.\",\n",
        "    \"Faz o que promete, mas esperava mais pelo preço.\",\n",
        "    \"Carrega tão rápido que até minha paciência ganha tempo...\",\n",
        "    \"Esse fone cancela tanto o ruído que até a música some!\"\n",
        "]\n",
        "\n",
        "for review in reviews:\n",
        "    print(f\"{review} -> {classificar_review(review)}\")\n"
      ]
    },
    {
      "cell_type": "code",
      "execution_count": 58,
      "metadata": {
        "colab": {
          "base_uri": "https://localhost:8080/"
        },
        "id": "JGIdGED181uV",
        "outputId": "ae871025-71c4-4b27-c9f2-6bb7f4b31bc8"
      },
      "outputs": [
        {
          "name": "stdout",
          "output_type": "stream",
          "text": [
            "Funciona direitim, mas nada de outro mundo. -> neutro\n",
            "Esse troço esquenta mais que fogão a lenha! -> negativo\n",
            "Recomendo demais, uai! Produto excelente. -> negativo\n",
            "Não vale o preço, viu? Fiquei desapontado. -> negativo\n",
            "Ótimo produto! Bão demais! -> positivo\n",
            "Cancela tanto barulho que nem escuto minha própria voz! -> negativo\n"
          ]
        }
      ],
      "source": [
        "# Conjunto de dados para treino (baseado no sotaque mineiro)\n",
        "dados_treinamento = [\n",
        "    (\"Ô trem bão demais!\", \"positivo\"),\n",
        "    (\"Recomendo demais da conta, funciona que é uma beleza!\", \"positivo\"),\n",
        "    (\"Uai, sô... esse troço esquenta mais que fogão a lenha!\", \"negativo\"),\n",
        "    (\"Esperava mais pelo preço.\", \"negativo\"),\n",
        "    (\"Nada de outro mundo, mas funciona direitim.\", \"neutro\"),\n",
        "    (\"Faz o que promete.\", \"neutro\"),\n",
        "    (\"Carrega tão rápido que até minha paciência ganha tempo...\", \"negativo\"),\n",
        "    (\"Esse fone cancela tanto o ruído que até a música some!\", \"negativo\")\n",
        "]\n",
        "\n",
        "# Separando textos e rótulos\n",
        "textos_treino, rotulos_treino = zip(*dados_treinamento)\n",
        "\n",
        "# Criando o modelo de Machine Learning\n",
        "modelo = make_pipeline(TfidfVectorizer(), MultinomialNB())\n",
        "\n",
        "# Treinando o modelo\n",
        "modelo.fit(textos_treino, rotulos_treino)\n",
        "\n",
        "# Novos depoimentos para classificar\n",
        "novos_reviews = [\n",
        "    \"Funciona direitim, mas nada de outro mundo.\",\n",
        "    \"Esse troço esquenta mais que fogão a lenha!\",\n",
        "    \"Recomendo demais, uai! Produto excelente.\",\n",
        "    \"Não vale o preço, viu? Fiquei desapontado.\",\n",
        "    \"Ótimo produto! Bão demais!\",\n",
        "    \"Cancela tanto barulho que nem escuto minha própria voz!\"\n",
        "]\n",
        "\n",
        "# Classificação dos novos reviews\n",
        "predicoes = modelo.predict(novos_reviews)\n",
        "\n",
        "# Exibir os resultados\n",
        "for review, classificacao in zip(novos_reviews, predicoes):\n",
        "    print(f\"{review} -> {classificacao}\")\n"
      ]
    },
    {
      "cell_type": "code",
      "execution_count": 59,
      "metadata": {
        "colab": {
          "base_uri": "https://localhost:8080/",
          "height": 195
        },
        "id": "bY6VmyFY9KLm",
        "outputId": "4437ee68-c0e4-4e93-fa08-6127288394c1"
      },
      "outputs": [
        {
          "data": {
            "text/html": [
              "<div>\n",
              "<style scoped>\n",
              "    .dataframe tbody tr th:only-of-type {\n",
              "        vertical-align: middle;\n",
              "    }\n",
              "\n",
              "    .dataframe tbody tr th {\n",
              "        vertical-align: top;\n",
              "    }\n",
              "\n",
              "    .dataframe thead th {\n",
              "        text-align: right;\n",
              "    }\n",
              "</style>\n",
              "<table border=\"1\" class=\"dataframe\">\n",
              "  <thead>\n",
              "    <tr style=\"text-align: right;\">\n",
              "      <th></th>\n",
              "      <th>bão</th>\n",
              "      <th>celular</th>\n",
              "      <th>demais</th>\n",
              "      <th>direitim</th>\n",
              "      <th>esquenta</th>\n",
              "      <th>esse</th>\n",
              "      <th>fogão</th>\n",
              "      <th>funciona</th>\n",
              "      <th>lenha</th>\n",
              "      <th>nem</th>\n",
              "      <th>não</th>\n",
              "      <th>presta</th>\n",
              "      <th>que</th>\n",
              "      <th>recomendo</th>\n",
              "      <th>sô</th>\n",
              "      <th>trem</th>\n",
              "      <th>troço</th>\n",
              "      <th>uai</th>\n",
              "    </tr>\n",
              "  </thead>\n",
              "  <tbody>\n",
              "    <tr>\n",
              "      <th>0</th>\n",
              "      <td>0.47633</td>\n",
              "      <td>0.47633</td>\n",
              "      <td>0.47633</td>\n",
              "      <td>0.00000</td>\n",
              "      <td>0.000000</td>\n",
              "      <td>0.304035</td>\n",
              "      <td>0.000000</td>\n",
              "      <td>0.00000</td>\n",
              "      <td>0.000000</td>\n",
              "      <td>0.000000</td>\n",
              "      <td>0.000000</td>\n",
              "      <td>0.000000</td>\n",
              "      <td>0.000000</td>\n",
              "      <td>0.00000</td>\n",
              "      <td>0.47633</td>\n",
              "      <td>0.000000</td>\n",
              "      <td>0.000000</td>\n",
              "      <td>0.000000</td>\n",
              "    </tr>\n",
              "    <tr>\n",
              "      <th>1</th>\n",
              "      <td>0.00000</td>\n",
              "      <td>0.00000</td>\n",
              "      <td>0.00000</td>\n",
              "      <td>0.00000</td>\n",
              "      <td>0.000000</td>\n",
              "      <td>0.234522</td>\n",
              "      <td>0.000000</td>\n",
              "      <td>0.00000</td>\n",
              "      <td>0.000000</td>\n",
              "      <td>0.000000</td>\n",
              "      <td>0.734847</td>\n",
              "      <td>0.367423</td>\n",
              "      <td>0.000000</td>\n",
              "      <td>0.00000</td>\n",
              "      <td>0.00000</td>\n",
              "      <td>0.367423</td>\n",
              "      <td>0.000000</td>\n",
              "      <td>0.367423</td>\n",
              "    </tr>\n",
              "    <tr>\n",
              "      <th>2</th>\n",
              "      <td>0.00000</td>\n",
              "      <td>0.00000</td>\n",
              "      <td>0.00000</td>\n",
              "      <td>0.57735</td>\n",
              "      <td>0.000000</td>\n",
              "      <td>0.000000</td>\n",
              "      <td>0.000000</td>\n",
              "      <td>0.57735</td>\n",
              "      <td>0.000000</td>\n",
              "      <td>0.000000</td>\n",
              "      <td>0.000000</td>\n",
              "      <td>0.000000</td>\n",
              "      <td>0.000000</td>\n",
              "      <td>0.57735</td>\n",
              "      <td>0.00000</td>\n",
              "      <td>0.000000</td>\n",
              "      <td>0.000000</td>\n",
              "      <td>0.000000</td>\n",
              "    </tr>\n",
              "    <tr>\n",
              "      <th>3</th>\n",
              "      <td>0.00000</td>\n",
              "      <td>0.00000</td>\n",
              "      <td>0.00000</td>\n",
              "      <td>0.00000</td>\n",
              "      <td>0.395056</td>\n",
              "      <td>0.252159</td>\n",
              "      <td>0.395056</td>\n",
              "      <td>0.00000</td>\n",
              "      <td>0.395056</td>\n",
              "      <td>0.395056</td>\n",
              "      <td>0.000000</td>\n",
              "      <td>0.000000</td>\n",
              "      <td>0.395056</td>\n",
              "      <td>0.00000</td>\n",
              "      <td>0.00000</td>\n",
              "      <td>0.000000</td>\n",
              "      <td>0.395056</td>\n",
              "      <td>0.000000</td>\n",
              "    </tr>\n",
              "  </tbody>\n",
              "</table>\n",
              "</div>"
            ],
            "text/plain": [
              "       bão  celular   demais  direitim  esquenta      esse     fogão  \\\n",
              "0  0.47633  0.47633  0.47633   0.00000  0.000000  0.304035  0.000000   \n",
              "1  0.00000  0.00000  0.00000   0.00000  0.000000  0.234522  0.000000   \n",
              "2  0.00000  0.00000  0.00000   0.57735  0.000000  0.000000  0.000000   \n",
              "3  0.00000  0.00000  0.00000   0.00000  0.395056  0.252159  0.395056   \n",
              "\n",
              "   funciona     lenha       nem       não    presta       que  recomendo  \\\n",
              "0   0.00000  0.000000  0.000000  0.000000  0.000000  0.000000    0.00000   \n",
              "1   0.00000  0.000000  0.000000  0.734847  0.367423  0.000000    0.00000   \n",
              "2   0.57735  0.000000  0.000000  0.000000  0.000000  0.000000    0.57735   \n",
              "3   0.00000  0.395056  0.395056  0.000000  0.000000  0.395056    0.00000   \n",
              "\n",
              "        sô      trem     troço       uai  \n",
              "0  0.47633  0.000000  0.000000  0.000000  \n",
              "1  0.00000  0.367423  0.000000  0.367423  \n",
              "2  0.00000  0.000000  0.000000  0.000000  \n",
              "3  0.00000  0.000000  0.395056  0.000000  "
            ]
          },
          "execution_count": 59,
          "metadata": {},
          "output_type": "execute_result"
        }
      ],
      "source": [
        "# Lista de textos\n",
        "textos = [\n",
        "    \"Esse celular é bão demais, sô!\",\n",
        "    \"Uai, esse trem não presta não.\",\n",
        "    \"Recomendo, funciona direitim.\",\n",
        "    \"Esse troço esquenta que nem fogão a lenha!\"\n",
        "]\n",
        "\n",
        "# Criando o vetorizador\n",
        "vectorizer = TfidfVectorizer()\n",
        "\n",
        "# Transformando os textos em vetores\n",
        "matriz_tfidf = vectorizer.fit_transform(textos)\n",
        "\n",
        "# Pegando os nomes das palavras\n",
        "palavras = vectorizer.get_feature_names_out()\n",
        "\n",
        "# Exibindo a matriz TF-IDF\n",
        "df_tfidf = pd.DataFrame(matriz_tfidf.toarray(), columns=palavras)\n",
        "df_tfidf"
      ]
    },
    {
      "cell_type": "markdown",
      "metadata": {
        "id": "ruqXgt9g9zvn"
      },
      "source": [
        "> O **TfidfVectorizer** é uma ferramenta do Scikit-Learn usada para converter textos em vetores numéricos, permitindo que modelos de Machine Learning consigam processá-los. Ele funciona aplicando a técnica TF-IDF ( [Term Frequency - Inverse Document Frequency](https://github.com/guilhermeonrails/depoimentos-csv/blob/main/TF-IDF.md)).\n",
        "\n",
        "\n",
        "**Vantagens do TfidfVectorizer**\n",
        "\n",
        "\n",
        "1. ✅ Remove palavras irrelevantes automaticamente\n",
        "2. ✅ Dá mais peso para palavras importantes\n",
        "3. ✅ Funciona bem para textos curtos e longos\n",
        "4. ✅ Fácil de usar com modelos de Machine Learning\n",
        "\n",
        "**Limitações**\n",
        "\n",
        "\n",
        "1. ❌ Não entende contexto, apenas frequência das palavras\n",
        "2. ❌ Não funciona bem para frases curtas ou únicas\n",
        "3. ❌ Pode perder informações semânticas (exemplo: \"bão\" e \"ótimo\" podem ter significados semelhantes, mas são tratados como palavras diferentes)\n",
        "\n",
        "\n"
      ]
    },
    {
      "cell_type": "markdown",
      "metadata": {
        "id": "c0i20RtMCwq0"
      },
      "source": [
        "# Próximos passos"
      ]
    },
    {
      "cell_type": "code",
      "execution_count": 60,
      "metadata": {
        "colab": {
          "base_uri": "https://localhost:8080/",
          "height": 542
        },
        "id": "eZRKKS_p9tv3",
        "outputId": "fbdbe981-8769-4067-dcab-1faaae8ca847"
      },
      "outputs": [
        {
          "data": {
            "application/vnd.plotly.v1+json": {
              "config": {
                "plotlyServerURL": "https://plot.ly"
              },
              "data": [
                {
                  "hovertemplate": "Sentimento=%{x}<br>Frequência=%{text}<extra></extra>",
                  "legendgroup": "negativo",
                  "marker": {
                    "color": "rgb(228,26,28)",
                    "pattern": {
                      "shape": ""
                    }
                  },
                  "name": "negativo",
                  "orientation": "v",
                  "showlegend": true,
                  "text": {
                    "bdata": "AAAAAAAAEEA=",
                    "dtype": "f8"
                  },
                  "textposition": "auto",
                  "type": "bar",
                  "x": [
                    "negativo"
                  ],
                  "xaxis": "x",
                  "y": {
                    "bdata": "BA==",
                    "dtype": "i1"
                  },
                  "yaxis": "y"
                },
                {
                  "hovertemplate": "Sentimento=%{x}<br>Frequência=%{text}<extra></extra>",
                  "legendgroup": "neutro",
                  "marker": {
                    "color": "rgb(55,126,184)",
                    "pattern": {
                      "shape": ""
                    }
                  },
                  "name": "neutro",
                  "orientation": "v",
                  "showlegend": true,
                  "text": {
                    "bdata": "AAAAAAAA8D8=",
                    "dtype": "f8"
                  },
                  "textposition": "auto",
                  "type": "bar",
                  "x": [
                    "neutro"
                  ],
                  "xaxis": "x",
                  "y": {
                    "bdata": "AQ==",
                    "dtype": "i1"
                  },
                  "yaxis": "y"
                },
                {
                  "hovertemplate": "Sentimento=%{x}<br>Frequência=%{text}<extra></extra>",
                  "legendgroup": "positivo",
                  "marker": {
                    "color": "rgb(77,175,74)",
                    "pattern": {
                      "shape": ""
                    }
                  },
                  "name": "positivo",
                  "orientation": "v",
                  "showlegend": true,
                  "text": {
                    "bdata": "AAAAAAAA8D8=",
                    "dtype": "f8"
                  },
                  "textposition": "auto",
                  "type": "bar",
                  "x": [
                    "positivo"
                  ],
                  "xaxis": "x",
                  "y": {
                    "bdata": "AQ==",
                    "dtype": "i1"
                  },
                  "yaxis": "y"
                }
              ],
              "layout": {
                "barmode": "relative",
                "legend": {
                  "title": {
                    "text": "Sentimento"
                  },
                  "tracegroupgap": 0
                },
                "template": {
                  "data": {
                    "bar": [
                      {
                        "error_x": {
                          "color": "#2a3f5f"
                        },
                        "error_y": {
                          "color": "#2a3f5f"
                        },
                        "marker": {
                          "line": {
                            "color": "#E5ECF6",
                            "width": 0.5
                          },
                          "pattern": {
                            "fillmode": "overlay",
                            "size": 10,
                            "solidity": 0.2
                          }
                        },
                        "type": "bar"
                      }
                    ],
                    "barpolar": [
                      {
                        "marker": {
                          "line": {
                            "color": "#E5ECF6",
                            "width": 0.5
                          },
                          "pattern": {
                            "fillmode": "overlay",
                            "size": 10,
                            "solidity": 0.2
                          }
                        },
                        "type": "barpolar"
                      }
                    ],
                    "carpet": [
                      {
                        "aaxis": {
                          "endlinecolor": "#2a3f5f",
                          "gridcolor": "white",
                          "linecolor": "white",
                          "minorgridcolor": "white",
                          "startlinecolor": "#2a3f5f"
                        },
                        "baxis": {
                          "endlinecolor": "#2a3f5f",
                          "gridcolor": "white",
                          "linecolor": "white",
                          "minorgridcolor": "white",
                          "startlinecolor": "#2a3f5f"
                        },
                        "type": "carpet"
                      }
                    ],
                    "choropleth": [
                      {
                        "colorbar": {
                          "outlinewidth": 0,
                          "ticks": ""
                        },
                        "type": "choropleth"
                      }
                    ],
                    "contour": [
                      {
                        "colorbar": {
                          "outlinewidth": 0,
                          "ticks": ""
                        },
                        "colorscale": [
                          [
                            0,
                            "#0d0887"
                          ],
                          [
                            0.1111111111111111,
                            "#46039f"
                          ],
                          [
                            0.2222222222222222,
                            "#7201a8"
                          ],
                          [
                            0.3333333333333333,
                            "#9c179e"
                          ],
                          [
                            0.4444444444444444,
                            "#bd3786"
                          ],
                          [
                            0.5555555555555556,
                            "#d8576b"
                          ],
                          [
                            0.6666666666666666,
                            "#ed7953"
                          ],
                          [
                            0.7777777777777778,
                            "#fb9f3a"
                          ],
                          [
                            0.8888888888888888,
                            "#fdca26"
                          ],
                          [
                            1,
                            "#f0f921"
                          ]
                        ],
                        "type": "contour"
                      }
                    ],
                    "contourcarpet": [
                      {
                        "colorbar": {
                          "outlinewidth": 0,
                          "ticks": ""
                        },
                        "type": "contourcarpet"
                      }
                    ],
                    "heatmap": [
                      {
                        "colorbar": {
                          "outlinewidth": 0,
                          "ticks": ""
                        },
                        "colorscale": [
                          [
                            0,
                            "#0d0887"
                          ],
                          [
                            0.1111111111111111,
                            "#46039f"
                          ],
                          [
                            0.2222222222222222,
                            "#7201a8"
                          ],
                          [
                            0.3333333333333333,
                            "#9c179e"
                          ],
                          [
                            0.4444444444444444,
                            "#bd3786"
                          ],
                          [
                            0.5555555555555556,
                            "#d8576b"
                          ],
                          [
                            0.6666666666666666,
                            "#ed7953"
                          ],
                          [
                            0.7777777777777778,
                            "#fb9f3a"
                          ],
                          [
                            0.8888888888888888,
                            "#fdca26"
                          ],
                          [
                            1,
                            "#f0f921"
                          ]
                        ],
                        "type": "heatmap"
                      }
                    ],
                    "histogram": [
                      {
                        "marker": {
                          "pattern": {
                            "fillmode": "overlay",
                            "size": 10,
                            "solidity": 0.2
                          }
                        },
                        "type": "histogram"
                      }
                    ],
                    "histogram2d": [
                      {
                        "colorbar": {
                          "outlinewidth": 0,
                          "ticks": ""
                        },
                        "colorscale": [
                          [
                            0,
                            "#0d0887"
                          ],
                          [
                            0.1111111111111111,
                            "#46039f"
                          ],
                          [
                            0.2222222222222222,
                            "#7201a8"
                          ],
                          [
                            0.3333333333333333,
                            "#9c179e"
                          ],
                          [
                            0.4444444444444444,
                            "#bd3786"
                          ],
                          [
                            0.5555555555555556,
                            "#d8576b"
                          ],
                          [
                            0.6666666666666666,
                            "#ed7953"
                          ],
                          [
                            0.7777777777777778,
                            "#fb9f3a"
                          ],
                          [
                            0.8888888888888888,
                            "#fdca26"
                          ],
                          [
                            1,
                            "#f0f921"
                          ]
                        ],
                        "type": "histogram2d"
                      }
                    ],
                    "histogram2dcontour": [
                      {
                        "colorbar": {
                          "outlinewidth": 0,
                          "ticks": ""
                        },
                        "colorscale": [
                          [
                            0,
                            "#0d0887"
                          ],
                          [
                            0.1111111111111111,
                            "#46039f"
                          ],
                          [
                            0.2222222222222222,
                            "#7201a8"
                          ],
                          [
                            0.3333333333333333,
                            "#9c179e"
                          ],
                          [
                            0.4444444444444444,
                            "#bd3786"
                          ],
                          [
                            0.5555555555555556,
                            "#d8576b"
                          ],
                          [
                            0.6666666666666666,
                            "#ed7953"
                          ],
                          [
                            0.7777777777777778,
                            "#fb9f3a"
                          ],
                          [
                            0.8888888888888888,
                            "#fdca26"
                          ],
                          [
                            1,
                            "#f0f921"
                          ]
                        ],
                        "type": "histogram2dcontour"
                      }
                    ],
                    "mesh3d": [
                      {
                        "colorbar": {
                          "outlinewidth": 0,
                          "ticks": ""
                        },
                        "type": "mesh3d"
                      }
                    ],
                    "parcoords": [
                      {
                        "line": {
                          "colorbar": {
                            "outlinewidth": 0,
                            "ticks": ""
                          }
                        },
                        "type": "parcoords"
                      }
                    ],
                    "pie": [
                      {
                        "automargin": true,
                        "type": "pie"
                      }
                    ],
                    "scatter": [
                      {
                        "fillpattern": {
                          "fillmode": "overlay",
                          "size": 10,
                          "solidity": 0.2
                        },
                        "type": "scatter"
                      }
                    ],
                    "scatter3d": [
                      {
                        "line": {
                          "colorbar": {
                            "outlinewidth": 0,
                            "ticks": ""
                          }
                        },
                        "marker": {
                          "colorbar": {
                            "outlinewidth": 0,
                            "ticks": ""
                          }
                        },
                        "type": "scatter3d"
                      }
                    ],
                    "scattercarpet": [
                      {
                        "marker": {
                          "colorbar": {
                            "outlinewidth": 0,
                            "ticks": ""
                          }
                        },
                        "type": "scattercarpet"
                      }
                    ],
                    "scattergeo": [
                      {
                        "marker": {
                          "colorbar": {
                            "outlinewidth": 0,
                            "ticks": ""
                          }
                        },
                        "type": "scattergeo"
                      }
                    ],
                    "scattergl": [
                      {
                        "marker": {
                          "colorbar": {
                            "outlinewidth": 0,
                            "ticks": ""
                          }
                        },
                        "type": "scattergl"
                      }
                    ],
                    "scattermap": [
                      {
                        "marker": {
                          "colorbar": {
                            "outlinewidth": 0,
                            "ticks": ""
                          }
                        },
                        "type": "scattermap"
                      }
                    ],
                    "scattermapbox": [
                      {
                        "marker": {
                          "colorbar": {
                            "outlinewidth": 0,
                            "ticks": ""
                          }
                        },
                        "type": "scattermapbox"
                      }
                    ],
                    "scatterpolar": [
                      {
                        "marker": {
                          "colorbar": {
                            "outlinewidth": 0,
                            "ticks": ""
                          }
                        },
                        "type": "scatterpolar"
                      }
                    ],
                    "scatterpolargl": [
                      {
                        "marker": {
                          "colorbar": {
                            "outlinewidth": 0,
                            "ticks": ""
                          }
                        },
                        "type": "scatterpolargl"
                      }
                    ],
                    "scatterternary": [
                      {
                        "marker": {
                          "colorbar": {
                            "outlinewidth": 0,
                            "ticks": ""
                          }
                        },
                        "type": "scatterternary"
                      }
                    ],
                    "surface": [
                      {
                        "colorbar": {
                          "outlinewidth": 0,
                          "ticks": ""
                        },
                        "colorscale": [
                          [
                            0,
                            "#0d0887"
                          ],
                          [
                            0.1111111111111111,
                            "#46039f"
                          ],
                          [
                            0.2222222222222222,
                            "#7201a8"
                          ],
                          [
                            0.3333333333333333,
                            "#9c179e"
                          ],
                          [
                            0.4444444444444444,
                            "#bd3786"
                          ],
                          [
                            0.5555555555555556,
                            "#d8576b"
                          ],
                          [
                            0.6666666666666666,
                            "#ed7953"
                          ],
                          [
                            0.7777777777777778,
                            "#fb9f3a"
                          ],
                          [
                            0.8888888888888888,
                            "#fdca26"
                          ],
                          [
                            1,
                            "#f0f921"
                          ]
                        ],
                        "type": "surface"
                      }
                    ],
                    "table": [
                      {
                        "cells": {
                          "fill": {
                            "color": "#EBF0F8"
                          },
                          "line": {
                            "color": "white"
                          }
                        },
                        "header": {
                          "fill": {
                            "color": "#C8D4E3"
                          },
                          "line": {
                            "color": "white"
                          }
                        },
                        "type": "table"
                      }
                    ]
                  },
                  "layout": {
                    "annotationdefaults": {
                      "arrowcolor": "#2a3f5f",
                      "arrowhead": 0,
                      "arrowwidth": 1
                    },
                    "autotypenumbers": "strict",
                    "coloraxis": {
                      "colorbar": {
                        "outlinewidth": 0,
                        "ticks": ""
                      }
                    },
                    "colorscale": {
                      "diverging": [
                        [
                          0,
                          "#8e0152"
                        ],
                        [
                          0.1,
                          "#c51b7d"
                        ],
                        [
                          0.2,
                          "#de77ae"
                        ],
                        [
                          0.3,
                          "#f1b6da"
                        ],
                        [
                          0.4,
                          "#fde0ef"
                        ],
                        [
                          0.5,
                          "#f7f7f7"
                        ],
                        [
                          0.6,
                          "#e6f5d0"
                        ],
                        [
                          0.7,
                          "#b8e186"
                        ],
                        [
                          0.8,
                          "#7fbc41"
                        ],
                        [
                          0.9,
                          "#4d9221"
                        ],
                        [
                          1,
                          "#276419"
                        ]
                      ],
                      "sequential": [
                        [
                          0,
                          "#0d0887"
                        ],
                        [
                          0.1111111111111111,
                          "#46039f"
                        ],
                        [
                          0.2222222222222222,
                          "#7201a8"
                        ],
                        [
                          0.3333333333333333,
                          "#9c179e"
                        ],
                        [
                          0.4444444444444444,
                          "#bd3786"
                        ],
                        [
                          0.5555555555555556,
                          "#d8576b"
                        ],
                        [
                          0.6666666666666666,
                          "#ed7953"
                        ],
                        [
                          0.7777777777777778,
                          "#fb9f3a"
                        ],
                        [
                          0.8888888888888888,
                          "#fdca26"
                        ],
                        [
                          1,
                          "#f0f921"
                        ]
                      ],
                      "sequentialminus": [
                        [
                          0,
                          "#0d0887"
                        ],
                        [
                          0.1111111111111111,
                          "#46039f"
                        ],
                        [
                          0.2222222222222222,
                          "#7201a8"
                        ],
                        [
                          0.3333333333333333,
                          "#9c179e"
                        ],
                        [
                          0.4444444444444444,
                          "#bd3786"
                        ],
                        [
                          0.5555555555555556,
                          "#d8576b"
                        ],
                        [
                          0.6666666666666666,
                          "#ed7953"
                        ],
                        [
                          0.7777777777777778,
                          "#fb9f3a"
                        ],
                        [
                          0.8888888888888888,
                          "#fdca26"
                        ],
                        [
                          1,
                          "#f0f921"
                        ]
                      ]
                    },
                    "colorway": [
                      "#636efa",
                      "#EF553B",
                      "#00cc96",
                      "#ab63fa",
                      "#FFA15A",
                      "#19d3f3",
                      "#FF6692",
                      "#B6E880",
                      "#FF97FF",
                      "#FECB52"
                    ],
                    "font": {
                      "color": "#2a3f5f"
                    },
                    "geo": {
                      "bgcolor": "white",
                      "lakecolor": "white",
                      "landcolor": "#E5ECF6",
                      "showlakes": true,
                      "showland": true,
                      "subunitcolor": "white"
                    },
                    "hoverlabel": {
                      "align": "left"
                    },
                    "hovermode": "closest",
                    "mapbox": {
                      "style": "light"
                    },
                    "paper_bgcolor": "white",
                    "plot_bgcolor": "#E5ECF6",
                    "polar": {
                      "angularaxis": {
                        "gridcolor": "white",
                        "linecolor": "white",
                        "ticks": ""
                      },
                      "bgcolor": "#E5ECF6",
                      "radialaxis": {
                        "gridcolor": "white",
                        "linecolor": "white",
                        "ticks": ""
                      }
                    },
                    "scene": {
                      "xaxis": {
                        "backgroundcolor": "#E5ECF6",
                        "gridcolor": "white",
                        "gridwidth": 2,
                        "linecolor": "white",
                        "showbackground": true,
                        "ticks": "",
                        "zerolinecolor": "white"
                      },
                      "yaxis": {
                        "backgroundcolor": "#E5ECF6",
                        "gridcolor": "white",
                        "gridwidth": 2,
                        "linecolor": "white",
                        "showbackground": true,
                        "ticks": "",
                        "zerolinecolor": "white"
                      },
                      "zaxis": {
                        "backgroundcolor": "#E5ECF6",
                        "gridcolor": "white",
                        "gridwidth": 2,
                        "linecolor": "white",
                        "showbackground": true,
                        "ticks": "",
                        "zerolinecolor": "white"
                      }
                    },
                    "shapedefaults": {
                      "line": {
                        "color": "#2a3f5f"
                      }
                    },
                    "ternary": {
                      "aaxis": {
                        "gridcolor": "white",
                        "linecolor": "white",
                        "ticks": ""
                      },
                      "baxis": {
                        "gridcolor": "white",
                        "linecolor": "white",
                        "ticks": ""
                      },
                      "bgcolor": "#E5ECF6",
                      "caxis": {
                        "gridcolor": "white",
                        "linecolor": "white",
                        "ticks": ""
                      }
                    },
                    "title": {
                      "x": 0.05
                    },
                    "xaxis": {
                      "automargin": true,
                      "gridcolor": "white",
                      "linecolor": "white",
                      "ticks": "",
                      "title": {
                        "standoff": 15
                      },
                      "zerolinecolor": "white",
                      "zerolinewidth": 2
                    },
                    "yaxis": {
                      "automargin": true,
                      "gridcolor": "white",
                      "linecolor": "white",
                      "ticks": "",
                      "title": {
                        "standoff": 15
                      },
                      "zerolinecolor": "white",
                      "zerolinewidth": 2
                    }
                  }
                },
                "title": {
                  "text": "Distribuição de Sentimentos"
                },
                "xaxis": {
                  "anchor": "y",
                  "categoryarray": [
                    "negativo",
                    "neutro",
                    "positivo"
                  ],
                  "categoryorder": "array",
                  "domain": [
                    0,
                    1
                  ],
                  "title": {
                    "text": "Sentimento"
                  }
                },
                "yaxis": {
                  "anchor": "x",
                  "domain": [
                    0,
                    1
                  ],
                  "title": {
                    "text": "Frequência"
                  }
                }
              }
            }
          },
          "metadata": {},
          "output_type": "display_data"
        }
      ],
      "source": [
        "# Frequência dos sentimentos\n",
        "# Qual sentimento é mais comum?\n",
        "# Há mais avaliações negativas do que positivas?\n",
        "\n",
        "# Contar frequência de cada sentimento\n",
        "\n",
        "# Criar DataFrame com os sentimentos previstos\n",
        "df = pd.DataFrame({'Sentimento': predicoes})\n",
        "\n",
        "# Contar frequência de cada sentimento\n",
        "contagem_sentimentos = df['Sentimento'].value_counts().reset_index()\n",
        "contagem_sentimentos.columns = ['Sentimento', 'Frequência']\n",
        "\n",
        "# Criar gráfico de barras interativo com Plotly\n",
        "fig = px.bar(\n",
        "    contagem_sentimentos,\n",
        "    x='Sentimento',\n",
        "    y='Frequência',\n",
        "    text='Frequência',\n",
        "    title=\"Distribuição de Sentimentos\",\n",
        "    color='Sentimento',\n",
        "    color_discrete_sequence=px.colors.qualitative.Set1\n",
        ")\n",
        "\n",
        "# Exibir gráfico\n",
        "fig.show()"
      ]
    },
    {
      "cell_type": "code",
      "execution_count": 61,
      "metadata": {
        "colab": {
          "base_uri": "https://localhost:8080/",
          "height": 422
        },
        "id": "cOXd8lNCBPSG",
        "outputId": "a15bf772-226f-4b48-9579-0da3b80cda5d"
      },
      "outputs": [
        {
          "data": {
            "image/png": "[encoded data removed]",
            "text/plain": [
              "<Figure size 1000x500 with 1 Axes>"
            ]
          },
          "metadata": {},
          "output_type": "display_data"
        }
      ],
      "source": [
        "# Juntar textos da categoria positiva e converter para minúsculas\n",
        "texto_positivo = \" \".join([textos_treino[i].lower() for i in range(len(textos_treino)) if rotulos_treino[i] == \"positivo\"])\n",
        "\n",
        "# Remover stopwords do texto\n",
        "palavras_filtradas = \" \".join([palavra for palavra in texto_positivo.split() if palavra not in stop_words])\n",
        "\n",
        "# Criar nuvem de palavras\n",
        "wordcloud = WordCloud(width=800, height=400, background_color=\"white\").generate(palavras_filtradas)\n",
        "\n",
        "# Exibir nuvem de palavras\n",
        "plt.figure(figsize=(10, 5))\n",
        "plt.imshow(wordcloud, interpolation=\"bilinear\")\n",
        "plt.axis(\"off\")\n",
        "plt.show()"
      ]
    },
    {
      "cell_type": "code",
      "execution_count": 62,
      "metadata": {
        "colab": {
          "base_uri": "https://localhost:8080/",
          "height": 422
        },
        "id": "3Fj4Pq54C__J",
        "outputId": "48e2529a-9324-47d6-f58a-46644e7161c4"
      },
      "outputs": [
        {
          "data": {
            "image/png": "[encoded data removed]",
            "text/plain": [
              "<Figure size 1000x500 with 1 Axes>"
            ]
          },
          "metadata": {},
          "output_type": "display_data"
        }
      ],
      "source": [
        "# Juntar textos da categoria negativas e converter para minúsculas\n",
        "texto_negativo = \" \".join([textos_treino[i].lower() for i in range(len(textos_treino)) if rotulos_treino[i] == \"negativo\"])\n",
        "\n",
        "# Remover stopwords do texto\n",
        "palavras_filtradas = \" \".join([palavra for palavra in texto_negativo.split() if palavra not in stop_words])\n",
        "\n",
        "# Criar nuvem de palavras\n",
        "wordcloud = WordCloud(width=800, height=400, background_color=\"white\").generate(palavras_filtradas)\n",
        "\n",
        "# Exibir nuvem de palavras\n",
        "plt.figure(figsize=(10, 5))\n",
        "plt.imshow(wordcloud, interpolation=\"bilinear\")\n",
        "plt.axis(\"off\")\n",
        "plt.show()"
      ]
    },
    {
      "cell_type": "markdown",
      "metadata": {
        "id": "EfJqHhYrECyC"
      },
      "source": [
        "# Compartilhando os resultados"
      ]
    },
    {
      "cell_type": "code",
      "execution_count": 63,
      "metadata": {
        "colab": {
          "base_uri": "https://localhost:8080/"
        },
        "id": "HXdeCkucEFzh",
        "outputId": "b519a9f2-6e6c-4786-e307-2040d3a76430"
      },
      "outputs": [],
      "source": [
        "# # Criar o arquivo app.py\n",
        "# code = \"\"\"\n",
        "# import streamlit as st\n",
        "\n",
        "# st.title(\"Hello, Streamlit!\")\n",
        "# st.write(\"Este é um aplicativo simples usando Streamlit no Google Colab.\")\n",
        "# \"\"\"\n",
        "\n",
        "# # Escreve o código no arquivo app.py\n",
        "# with open(\"app.py\", \"w\") as file:\n",
        "#     file.write(code)\n",
        "\n",
        "# print(\"Arquivo app.py criado com sucesso!\")"
      ]
    },
    {
      "cell_type": "code",
      "execution_count": 64,
      "metadata": {
        "id": "_4-M_WbbeaHo"
      },
      "outputs": [],
      "source": [
        "# !pip install -q streamlit"
      ]
    },
    {
      "cell_type": "code",
      "execution_count": 65,
      "metadata": {
        "colab": {
          "background_save": true,
          "base_uri": "https://localhost:8080/"
        },
        "id": "sDBUrtbCEHyz",
        "outputId": "4b4c77c0-ae65-4b9f-e146-b5d8e846bb89"
      },
      "outputs": [],
      "source": [
        "# !streamlit run /content/app.py &>/content/logs.txt & npx localtunnel --port 8501 & curl ipv4.icanhazip.com"
      ]
    }
  ],
  "metadata": {
    "colab": {
      "provenance": []
    },
    "kernelspec": {
      "display_name": ".venv",
      "language": "python",
      "name": "python3"
    },
    "language_info": {
      "codemirror_mode": {
        "name": "ipython",
        "version": 3
      },
      "file_extension": ".py",
      "mimetype": "text/x-python",
      "name": "python",
      "nbconvert_exporter": "python",
      "pygments_lexer": "ipython3",
      "version": "3.10.11"
    }
  },
  "nbformat": 4,
  "nbformat_minor": 0
}
